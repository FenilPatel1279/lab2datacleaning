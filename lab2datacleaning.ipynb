{
 "cells": [
  {
   "cell_type": "markdown",
   "id": "fdd2ae26",
   "metadata": {},
   "source": [
    "## Step 1: Hello Data "
   ]
  },
  {
   "cell_type": "code",
   "execution_count": null,
   "id": "cd347784",
   "metadata": {},
   "outputs": [
    {
     "data": {
      "application/vnd.microsoft.datawrangler.viewer.v0+json": {
       "columns": [
        {
         "name": "index",
         "rawType": "int64",
         "type": "integer"
        },
        {
         "name": "Order Date",
         "rawType": "object",
         "type": "string"
        },
        {
         "name": "Customer ID",
         "rawType": "object",
         "type": "string"
        },
        {
         "name": "Product",
         "rawType": "object",
         "type": "string"
        },
        {
         "name": "Unit Price",
         "rawType": "float64",
         "type": "float"
        },
        {
         "name": "Quantity",
         "rawType": "int64",
         "type": "integer"
        },
        {
         "name": "Coupon Code",
         "rawType": "object",
         "type": "unknown"
        },
        {
         "name": "City",
         "rawType": "object",
         "type": "string"
        }
       ],
       "ref": "356d9cc2-dc1f-44d7-ad16-cc492a7947da",
       "rows": [
        [
         "0",
         "05/25/2023",
         "CUST1000",
         "Keyboard",
         "533.07",
         "4",
         null,
         "Calgary"
        ],
        [
         "1",
         "11/21/2023",
         "CUST1001",
         "Monitor",
         "1429.51",
         "5",
         "SAVE20",
         "Vancouver"
        ],
        [
         "2",
         "06/28/2023",
         "CUST1002",
         "Smartphone",
         "1139.69",
         "4",
         null,
         "Montreal"
        ]
       ],
       "shape": {
        "columns": 7,
        "rows": 3
       }
      },
      "text/html": [
       "<div>\n",
       "<style scoped>\n",
       "    .dataframe tbody tr th:only-of-type {\n",
       "        vertical-align: middle;\n",
       "    }\n",
       "\n",
       "    .dataframe tbody tr th {\n",
       "        vertical-align: top;\n",
       "    }\n",
       "\n",
       "    .dataframe thead th {\n",
       "        text-align: right;\n",
       "    }\n",
       "</style>\n",
       "<table border=\"1\" class=\"dataframe\">\n",
       "  <thead>\n",
       "    <tr style=\"text-align: right;\">\n",
       "      <th></th>\n",
       "      <th>Order Date</th>\n",
       "      <th>Customer ID</th>\n",
       "      <th>Product</th>\n",
       "      <th>Unit Price</th>\n",
       "      <th>Quantity</th>\n",
       "      <th>Coupon Code</th>\n",
       "      <th>City</th>\n",
       "    </tr>\n",
       "  </thead>\n",
       "  <tbody>\n",
       "    <tr>\n",
       "      <th>0</th>\n",
       "      <td>05/25/2023</td>\n",
       "      <td>CUST1000</td>\n",
       "      <td>Keyboard</td>\n",
       "      <td>533.07</td>\n",
       "      <td>4</td>\n",
       "      <td>NaN</td>\n",
       "      <td>Calgary</td>\n",
       "    </tr>\n",
       "    <tr>\n",
       "      <th>1</th>\n",
       "      <td>11/21/2023</td>\n",
       "      <td>CUST1001</td>\n",
       "      <td>Monitor</td>\n",
       "      <td>1429.51</td>\n",
       "      <td>5</td>\n",
       "      <td>SAVE20</td>\n",
       "      <td>Vancouver</td>\n",
       "    </tr>\n",
       "    <tr>\n",
       "      <th>2</th>\n",
       "      <td>06/28/2023</td>\n",
       "      <td>CUST1002</td>\n",
       "      <td>Smartphone</td>\n",
       "      <td>1139.69</td>\n",
       "      <td>4</td>\n",
       "      <td>NaN</td>\n",
       "      <td>Montreal</td>\n",
       "    </tr>\n",
       "  </tbody>\n",
       "</table>\n",
       "</div>"
      ],
      "text/plain": [
       "   Order Date Customer ID     Product  Unit Price  Quantity Coupon Code  \\\n",
       "0  05/25/2023    CUST1000    Keyboard      533.07         4         NaN   \n",
       "1  11/21/2023    CUST1001     Monitor     1429.51         5      SAVE20   \n",
       "2  06/28/2023    CUST1002  Smartphone     1139.69         4         NaN   \n",
       "\n",
       "        City  \n",
       "0    Calgary  \n",
       "1  Vancouver  \n",
       "2   Montreal  "
      ]
     },
     "execution_count": 1,
     "metadata": {},
     "output_type": "execute_result"
    }
   ],
   "source": [
    "import pandas as pd\n",
    "\n",
    "# Option 1: Use raw string with r prefix\n",
    "file_path = r\"D:\\Applied AI & ML\\Machine Learning Porgramming\\Labs\\ecommerce_500_rows (1).csv\"\n",
    "\n",
    "# Option 2: Use double backslashes (\\\\)\n",
    "\n",
    "df = pd.read_csv(file_path)\n",
    "df.head(3)\n",
    "# test\n",
    "# test 2"
   ]
  },
  {
   "cell_type": "markdown",
   "id": "50248fae",
   "metadata": {},
   "source": [
    "## Step 2: Pick the Right Container\n",
    "\n",
    "Since it enables the encapsulation of both data and functionality (such as clean/total functions), a class is the ideal containment for transaction information."
   ]
  },
  {
   "cell_type": "markdown",
   "id": "d3d0f429",
   "metadata": {},
   "source": [
    "# Quick profiling "
   ]
  },
  {
   "cell_type": "code",
   "execution_count": 2,
   "id": "31c77fb7",
   "metadata": {},
   "outputs": [],
   "source": [
    "\n",
    "\n",
    "from dataclasses import dataclass\n",
    "from typing import Optional\n",
    "from datetime import datetime\n",
    "\n",
    "@dataclass\n",
    "class Transaction:\n",
    "    date: str\n",
    "    customer_id: str\n",
    "    product: str\n",
    "    price: float\n",
    "    quantity: int\n",
    "    coupon_code: Optional[str]\n",
    "    shipping_city: str\n",
    "\n",
    "    def clean(self):\n",
    "        if isinstance(self.price, str) and self.price == \"N/A\":\n",
    "            self.price = 0.0\n",
    "        if self.price < 0:\n",
    "            self.price = abs(self.price)\n",
    "\n",
    "    def total(self):\n",
    "        return self.price * self.quantity\n"
   ]
  }
 ],
 "metadata": {
  "kernelspec": {
   "display_name": "ml",
   "language": "python",
   "name": "python3"
  },
  "language_info": {
   "codemirror_mode": {
    "name": "ipython",
    "version": 3
   },
   "file_extension": ".py",
   "mimetype": "text/x-python",
   "name": "python",
   "nbconvert_exporter": "python",
   "pygments_lexer": "ipython3",
   "version": "3.10.16"
  }
 },
 "nbformat": 4,
 "nbformat_minor": 5
}
