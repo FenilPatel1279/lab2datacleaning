{
 "cells": [
  {
   "cell_type": "markdown",
   "id": "1c6e9c30",
   "metadata": {},
   "source": [
    "# Name: Fenil Patel\n",
    "## Subjet: Machine learning Programming\n",
    "\n",
    "\n",
    "#### Lab2 - Data Collection and Pre-processing\n",
    " "
   ]
  },
  {
   "cell_type": "markdown",
   "id": "fdd2ae26",
   "metadata": {},
   "source": [
    "## Step 1: Hello Data "
   ]
  },
  {
   "cell_type": "code",
   "execution_count": null,
   "id": "cd347784",
   "metadata": {},
   "outputs": [
    {
     "data": {
      "application/vnd.microsoft.datawrangler.viewer.v0+json": {
       "columns": [
        {
         "name": "index",
         "rawType": "int64",
         "type": "integer"
        },
        {
         "name": "Order Date",
         "rawType": "object",
         "type": "string"
        },
        {
         "name": "Customer ID",
         "rawType": "object",
         "type": "string"
        },
        {
         "name": "Product",
         "rawType": "object",
         "type": "string"
        },
        {
         "name": "Unit Price",
         "rawType": "float64",
         "type": "float"
        },
        {
         "name": "Quantity",
         "rawType": "int64",
         "type": "integer"
        },
        {
         "name": "Coupon Code",
         "rawType": "object",
         "type": "unknown"
        },
        {
         "name": "City",
         "rawType": "object",
         "type": "string"
        }
       ],
       "ref": "ea45a074-fc90-4fcd-8c6c-4692977b399c",
       "rows": [
        [
         "0",
         "05/25/2023",
         "CUST1000",
         "Keyboard",
         "533.07",
         "4",
         null,
         "Calgary"
        ],
        [
         "1",
         "11/21/2023",
         "CUST1001",
         "Monitor",
         "1429.51",
         "5",
         "SAVE20",
         "Vancouver"
        ],
        [
         "2",
         "06/28/2023",
         "CUST1002",
         "Smartphone",
         "1139.69",
         "4",
         null,
         "Montreal"
        ]
       ],
       "shape": {
        "columns": 7,
        "rows": 3
       }
      },
      "text/html": [
       "<div>\n",
       "<style scoped>\n",
       "    .dataframe tbody tr th:only-of-type {\n",
       "        vertical-align: middle;\n",
       "    }\n",
       "\n",
       "    .dataframe tbody tr th {\n",
       "        vertical-align: top;\n",
       "    }\n",
       "\n",
       "    .dataframe thead th {\n",
       "        text-align: right;\n",
       "    }\n",
       "</style>\n",
       "<table border=\"1\" class=\"dataframe\">\n",
       "  <thead>\n",
       "    <tr style=\"text-align: right;\">\n",
       "      <th></th>\n",
       "      <th>Order Date</th>\n",
       "      <th>Customer ID</th>\n",
       "      <th>Product</th>\n",
       "      <th>Unit Price</th>\n",
       "      <th>Quantity</th>\n",
       "      <th>Coupon Code</th>\n",
       "      <th>City</th>\n",
       "    </tr>\n",
       "  </thead>\n",
       "  <tbody>\n",
       "    <tr>\n",
       "      <th>0</th>\n",
       "      <td>05/25/2023</td>\n",
       "      <td>CUST1000</td>\n",
       "      <td>Keyboard</td>\n",
       "      <td>533.07</td>\n",
       "      <td>4</td>\n",
       "      <td>NaN</td>\n",
       "      <td>Calgary</td>\n",
       "    </tr>\n",
       "    <tr>\n",
       "      <th>1</th>\n",
       "      <td>11/21/2023</td>\n",
       "      <td>CUST1001</td>\n",
       "      <td>Monitor</td>\n",
       "      <td>1429.51</td>\n",
       "      <td>5</td>\n",
       "      <td>SAVE20</td>\n",
       "      <td>Vancouver</td>\n",
       "    </tr>\n",
       "    <tr>\n",
       "      <th>2</th>\n",
       "      <td>06/28/2023</td>\n",
       "      <td>CUST1002</td>\n",
       "      <td>Smartphone</td>\n",
       "      <td>1139.69</td>\n",
       "      <td>4</td>\n",
       "      <td>NaN</td>\n",
       "      <td>Montreal</td>\n",
       "    </tr>\n",
       "  </tbody>\n",
       "</table>\n",
       "</div>"
      ],
      "text/plain": [
       "   Order Date Customer ID     Product  Unit Price  Quantity Coupon Code  \\\n",
       "0  05/25/2023    CUST1000    Keyboard      533.07         4         NaN   \n",
       "1  11/21/2023    CUST1001     Monitor     1429.51         5      SAVE20   \n",
       "2  06/28/2023    CUST1002  Smartphone     1139.69         4         NaN   \n",
       "\n",
       "        City  \n",
       "0    Calgary  \n",
       "1  Vancouver  \n",
       "2   Montreal  "
      ]
     },
     "execution_count": 1,
     "metadata": {},
     "output_type": "execute_result"
    }
   ],
   "source": [
    "import pandas as pd\n",
    "\n",
    "# Use raw string with r prefix\n",
    "file_path = r\"D:\\Applied AI & ML\\Machine Learning Porgramming\\Labs\\ecommerce_500_rows (1).csv\"\n",
    "\n",
    "# Use double backslashes\n",
    "\n",
    "df = pd.read_csv(file_path)\n",
    "df.head(3)\n"
   ]
  },
  {
   "cell_type": "markdown",
   "id": "50248fae",
   "metadata": {},
   "source": [
    "## Step 2: Pick the Right Container\n",
    "\n",
    "Since it enables the encapsulation of both data and functionality (such as clean/total functions), a class is the ideal containment for transaction information."
   ]
  },
  {
   "cell_type": "code",
   "execution_count": null,
   "id": "58be6218",
   "metadata": {},
   "outputs": [],
   "source": [
    "# import necessary modules\n",
    "import pandas as pd\n",
    "from dataclasses import dataclass\n",
    "from typing import Optional\n",
    "from datetime import datetime\n",
    "\n",
    "\n",
    "# Define the Transaction class\n",
    "@dataclass\n",
    "class Transaction:\n",
    "    date: str\n",
    "    customer_id: str\n",
    "    product: str\n",
    "    price: float\n",
    "    quantity: int\n",
    "    coupon_code: Optional[str]\n",
    "    shipping_city: str\n",
    "\n",
    "    def clean(self):\n",
    "        # Fix missing or negative price values\n",
    "        if isinstance(self.price, str) and self.price == \"N/A\":\n",
    "            self.price = 0.0\n",
    "        if self.price < 0:\n",
    "            self.price = abs(self.price)\n",
    "\n",
    "    def total(self):\n",
    "        # Calculate total price for this transaction\n",
    "        return self.price * self.quantity\n",
    "\n",
    "# Define the function to load transactions\n",
    "def load_transactions(path: str) -> list[Transaction]:\n",
    "    # Read the first 500 rows of the CSV file\n",
    "    df = pd.read_csv(path).head(500)\n",
    "\n",
    "    # Convert each row into a Transaction object\n",
    "    transactions = [\n",
    "        Transaction(\n",
    "            row['Order Date'],                    # Extract order date\n",
    "            row['Customer ID'],                   # Extract customer ID\n",
    "            row['Product'],                       # Extract product name\n",
    "            float(row['Unit Price']),             # Convert unit price to float\n",
    "            int(row['Quantity']),                 # Convert quantity to integer\n",
    "            row.get('Coupon Code', None),         # Extract coupon code or use None\n",
    "            row['City']                           # Extract shipping city\n",
    "        )\n",
    "        for _, row in df.iterrows()\n",
    "    ]\n",
    "    return transactions\n",
    "\n",
    "# Load the transactions from the specified file path\n",
    "transactions = load_transactions(\"D:\\\\Applied AI & ML\\\\Machine Learning Porgramming\\\\Labs\\\\ecommerce_500_rows (1).csv\")\n"
   ]
  },
  {
   "cell_type": "markdown",
   "id": "248bab04",
   "metadata": {},
   "source": [
    "# Step 3: Transaction class OOP Data structure"
   ]
  },
  {
   "cell_type": "code",
   "execution_count": 3,
   "id": "a649cd4d",
   "metadata": {},
   "outputs": [],
   "source": [
    "from dataclasses import dataclass\n",
    "from typing import Optional\n",
    "from datetime import datetime\n",
    "\n",
    "# This class represents a single e-commerce transaction with fields for all important info.\n",
    "@dataclass\n",
    "class Transaction:\n",
    "    date: str               # The date when the transaction occurred\n",
    "    customer_id: str        # Unique ID of the customer\n",
    "    product: str            # Name of the product purchased\n",
    "    price: float            # Price of a single unit of the product\n",
    "    quantity: int           # Number of units purchased\n",
    "    coupon_code: Optional[str]  # Optional discount code applied to the order\n",
    "    shipping_city: str      # City where the order is being shipped\n",
    "\n",
    "    # This method checks and fixes bad data in the price field.\n",
    "    def clean(self):\n",
    "        # If the price is missing or marked as \"N/A\", treat it as 0.0\n",
    "        if isinstance(self.price, str) and self.price == \"N/A\":\n",
    "            self.price = 0.0\n",
    "        # If the price is accidentally entered as negative, flip it to positive\n",
    "        if self.price < 0:\n",
    "            self.price = abs(self.price)\n",
    "\n",
    "    # This method calculates the total order amount (price × quantity)\n",
    "    def total(self):\n",
    "        return self.price * self.quantity\n"
   ]
  },
  {
   "cell_type": "markdown",
   "id": "df720e76",
   "metadata": {},
   "source": [
    "# Step 4: Bulk load"
   ]
  },
  {
   "cell_type": "code",
   "execution_count": 4,
   "id": "64968d6d",
   "metadata": {},
   "outputs": [],
   "source": [
    "def load_transactions(path: str) -> list[Transaction]:\n",
    "    \n",
    "    # Load up to 500 rows from a CSV file and turn each row into a Transaction object.\n",
    "    \n",
    "    df = pd.read_csv(path).head(500)\n",
    "    \n",
    "    # Convert each row into a Transaction:\n",
    "    transactions = []\n",
    "    for _, row in df.iterrows():\n",
    "        tx = Transaction(\n",
    "            row['Order Date'],              # when the order was placed\n",
    "            row['Customer ID'],             # who placed the order\n",
    "            row['Product'],                 # what they bought\n",
    "            float(row['Unit Price']),       # cost per item\n",
    "            int(row['Quantity']),           # number of items\n",
    "            row.get('Coupon Code', None),   # any coupon they used (or None)\n",
    "            row['City']                     # shipping destination\n",
    "        )\n",
    "        transactions.append(tx)\n",
    "    \n",
    "    # Return the full list of Transaction objects\n",
    "    return transactions\n",
    "\n",
    "transactions = load_transactions(\n",
    "    r\"D:\\Applied AI & ML\\Machine Learning Porgramming\\Labs\\ecommerce_500_rows (1).csv\"\n",
    ")\n"
   ]
  },
  {
   "cell_type": "markdown",
   "id": "d3d0f429",
   "metadata": {},
   "source": [
    "# Step 5: Quick profiling "
   ]
  },
  {
   "cell_type": "code",
   "execution_count": 5,
   "id": "31c77fb7",
   "metadata": {},
   "outputs": [
    {
     "name": "stdout",
     "output_type": "stream",
     "text": [
      "Price Summary\n",
      "------------------------------\n",
      "Minimum Price  : $50.03\n",
      "Average Price  : $794.01\n",
      "Maximum Price  : $1,497.55\n",
      "\n",
      " Shipping Cities\n",
      "------------------------------\n",
      "Number of Unique Cities: 5\n"
     ]
    }
   ],
   "source": [
    "# Create transactions list from df if not already created\n",
    "transactions = [\n",
    "    Transaction(\n",
    "        date=row['Order Date'],\n",
    "        customer_id=row['Customer ID'],\n",
    "        product=row['Product'],\n",
    "        price=row['Unit Price'],\n",
    "        quantity=row['Quantity'],\n",
    "        coupon_code=row['Coupon Code'],\n",
    "        shipping_city=row['City']\n",
    "    )\n",
    "    for _, row in df.iterrows()\n",
    "]\n",
    "\n",
    "# Extract prices and cities\n",
    "prices = [t.price for t in transactions]\n",
    "cities = set(t.shipping_city for t in transactions)\n",
    "\n",
    "# Calculate basic stats\n",
    "min_price = min(prices)\n",
    "mean_price = sum(prices) / len(prices)\n",
    "max_price = max(prices)\n",
    "unique_city_count = len(cities)\n",
    "\n",
    "# Print output nicely\n",
    "print(\"Price Summary\")\n",
    "print(\"-\" * 30)\n",
    "print(f\"Minimum Price  : ${min_price:,.2f}\")\n",
    "print(f\"Average Price  : ${mean_price:,.2f}\")\n",
    "print(f\"Maximum Price  : ${max_price:,.2f}\")\n",
    "print()\n",
    "print(\" Shipping Cities\")\n",
    "print(\"-\" * 30)\n",
    "print(f\"Number of Unique Cities: {unique_city_count}\")\n"
   ]
  },
  {
   "cell_type": "markdown",
   "id": "b091359a",
   "metadata": {},
   "source": [
    "## Step 6: Spot the Grime\n"
   ]
  },
  {
   "cell_type": "code",
   "execution_count": 6,
   "id": "9d3e4a73",
   "metadata": {},
   "outputs": [],
   "source": [
    "transactions[10].price = -99.99\n",
    "transactions[20].coupon_code = \"N/A\"\n",
    "transactions[30].price = \"N/A\""
   ]
  },
  {
   "cell_type": "markdown",
   "id": "4d16bad7",
   "metadata": {},
   "source": [
    "## Step 7: Cleaning \n"
   ]
  },
  {
   "cell_type": "code",
   "execution_count": 7,
   "id": "c43c32fd",
   "metadata": {},
   "outputs": [
    {
     "name": "stdout",
     "output_type": "stream",
     "text": [
      "Dirty before: 2\n",
      "Dirty after: 0\n"
     ]
    }
   ],
   "source": [
    "# Before cleaning\n",
    "dirty_before = [t for t in transactions if isinstance(t.price, str) or t.price < 0]\n",
    "print(\"Dirty before:\", len(dirty_before))\n",
    "\n",
    "# Clean all\n",
    "for t in transactions:\n",
    "    t.clean()\n",
    "\n",
    "# After cleaning\n",
    "dirty_after = [t for t in transactions if isinstance(t.price, str) or t.price < 0]\n",
    "print(\"Dirty after:\", len(dirty_after))"
   ]
  },
  {
   "cell_type": "markdown",
   "id": "99f8bd4b",
   "metadata": {},
   "source": [
    "## Step 8: Transformations\n"
   ]
  },
  {
   "cell_type": "code",
   "execution_count": 8,
   "id": "5b1edb4d",
   "metadata": {},
   "outputs": [],
   "source": [
    "def parse_coupon(code):\n",
    "    # Check if the code exists and starts with the word \"SAVE\"\n",
    "    if code and str(code).startswith(\"SAVE\"):\n",
    "        # Extract the number after \"SAVE\" and convert it to an integer\n",
    "        return int(code[4:])\n",
    "    return 0\n",
    "\n",
    "# Go through each transaction and assign a discount based on the coupon code\n",
    "for t in transactions:\n",
    "    t.discount = parse_coupon(t.coupon_code)\n"
   ]
  },
  {
   "cell_type": "markdown",
   "id": "fb27db64",
   "metadata": {},
   "source": [
    "## Step 9: Feature Engineering\n"
   ]
  },
  {
   "cell_type": "code",
   "execution_count": 9,
   "id": "a29edaed",
   "metadata": {},
   "outputs": [],
   "source": [
    "from datetime import datetime\n",
    "\n",
    "# Loop through each transaction object in the list\n",
    "for t in transactions:\n",
    "    # Calculate how many days have passed since the purchase date\n",
    "    t.days_since_purchase = (\n",
    "        datetime.now() - datetime.strptime(t.date, \"%m/%d/%Y\")\n",
    "    ).days  # Convert the date string to a datetime object and subtract from today\n"
   ]
  },
  {
   "cell_type": "markdown",
   "id": "55e5c606",
   "metadata": {},
   "source": [
    "## Step 10: Mini-Aggregation"
   ]
  },
  {
   "cell_type": "code",
   "execution_count": 10,
   "id": "4aa7a0c8",
   "metadata": {},
   "outputs": [
    {
     "name": "stdout",
     "output_type": "stream",
     "text": [
      "        City    Revenue\n",
      "0    Calgary  222488.67\n",
      "1   Montreal  233576.12\n",
      "2     Ottawa  221019.08\n",
      "3    Toronto  275478.61\n",
      "4  Vancouver  226960.33\n"
     ]
    }
   ],
   "source": [
    "# Compute city revenue if not already defined\n",
    "df['Revenue'] = df['Unit Price'] * df['Quantity']\n",
    "city_revenue = df.groupby('City')['Revenue'].sum().reset_index()\n",
    "\n",
    "print(city_revenue)\n"
   ]
  },
  {
   "cell_type": "markdown",
   "id": "9b5e23b3",
   "metadata": {},
   "source": [
    "## Step 11: Serialization Checkpoint\n"
   ]
  },
  {
   "cell_type": "code",
   "execution_count": 11,
   "id": "f5d0b6de",
   "metadata": {},
   "outputs": [],
   "source": [
    "import pandas as pd\n",
    "import json\n",
    "import pyarrow as pa\n",
    "import pyarrow.parquet as pq\n",
    "\n",
    "# Turn each Transaction into a simple dict of its fields\n",
    "json_data = [t.__dict__ for t in transactions]\n",
    "\n",
    "# Save all transactions to a human-readable JSON file\n",
    "with open(\"cleaned_data.json\", \"w\") as f:\n",
    "    json.dump(json_data, f, indent=2)  # indent=2 makes it easy to read\n",
    "\n",
    "# Now, load that same data into a pandas DataFrame\n",
    "df = pd.DataFrame(json_data)\n",
    "\n",
    "# Convert the DataFrame into an Apache Arrow table\n",
    "table = pa.Table.from_pandas(df)\n",
    "\n",
    "# Write the Arrow table out as a Parquet file for fast, compact storage\n",
    "pq.write_table(table, \"cleaned_data.parquet\")\n",
    "# Read the Parquet file back into a DataFrame"
   ]
  },
  {
   "cell_type": "markdown",
   "id": "4e153107",
   "metadata": {},
   "source": [
    "## Step 12: Soft Interview Reflection\n",
    "OOP helped encapsulate logic cleanly."
   ]
  },
  {
   "cell_type": "markdown",
   "id": "3ae5edbe",
   "metadata": {},
   "source": [
    "Combining functionality and data was made simpler by object-oriented programming.  Code became scalable and accessible by enclosing functionality such as `.clean()` and `.total()` inside `Transaction`."
   ]
  },
  {
   "cell_type": "markdown",
   "id": "98f00e03",
   "metadata": {},
   "source": [
    "# Data-Dictionary Section"
   ]
  },
  {
   "cell_type": "code",
   "execution_count": 12,
   "id": "bb3782f3",
   "metadata": {},
   "outputs": [
    {
     "data": {
      "application/vnd.microsoft.datawrangler.viewer.v0+json": {
       "columns": [
        {
         "name": "index",
         "rawType": "int64",
         "type": "integer"
        },
        {
         "name": "Field",
         "rawType": "object",
         "type": "string"
        },
        {
         "name": "Type",
         "rawType": "object",
         "type": "string"
        },
        {
         "name": "Description",
         "rawType": "object",
         "type": "string"
        },
        {
         "name": "Source",
         "rawType": "object",
         "type": "string"
        }
       ],
       "ref": "ac8dbe28-e60b-415e-acd8-267a5351ede5",
       "rows": [
        [
         "0",
         "Order Date",
         "string",
         "When the order was placed",
         "Primary CSV"
        ],
        [
         "1",
         "Customer ID",
         "string",
         "A unique ID for the customer",
         "Primary CSV"
        ],
        [
         "2",
         "Product",
         "string",
         "The product that was purchased",
         "Primary CSV"
        ],
        [
         "3",
         "Unit Price",
         "float",
         "Price of a single unit",
         "Primary CSV"
        ],
        [
         "4",
         "Quantity",
         "int",
         "Number of units bought",
         "Primary CSV"
        ],
        [
         "5",
         "Coupon Code",
         "string",
         "Any discount coupon applied",
         "Primary CSV"
        ],
        [
         "6",
         "City",
         "string",
         "City where the item was shipped",
         "Primary CSV"
        ],
        [
         "7",
         "Product_ID",
         "string",
         "Internal product ID",
         "Secondary Metadata"
        ],
        [
         "8",
         "Category",
         "string",
         "The category the product belongs to",
         "Secondary Metadata"
        ],
        [
         "9",
         "Brand",
         "string",
         "Product's brand name",
         "Secondary Metadata"
        ],
        [
         "10",
         "Province",
         "string",
         "Province of the shipping city",
         "Secondary Metadata"
        ],
        [
         "11",
         "Country",
         "string",
         "Country of the shipping city",
         "Secondary Metadata"
        ],
        [
         "12",
         "Population",
         "int",
         "Population of the shipping city",
         "Secondary Metadata"
        ],
        [
         "13",
         "Coupon_Description",
         "string",
         "Explanation of the coupon offer",
         "Secondary Metadata"
        ],
        [
         "14",
         "Discount_Percent",
         "int",
         "Percentage of discount offered",
         "Secondary Metadata"
        ],
        [
         "15",
         "Coupon_Expiry",
         "string",
         "Expiry date of the coupon",
         "Secondary Metadata"
        ]
       ],
       "shape": {
        "columns": 4,
        "rows": 16
       }
      },
      "text/html": [
       "<div>\n",
       "<style scoped>\n",
       "    .dataframe tbody tr th:only-of-type {\n",
       "        vertical-align: middle;\n",
       "    }\n",
       "\n",
       "    .dataframe tbody tr th {\n",
       "        vertical-align: top;\n",
       "    }\n",
       "\n",
       "    .dataframe thead th {\n",
       "        text-align: right;\n",
       "    }\n",
       "</style>\n",
       "<table border=\"1\" class=\"dataframe\">\n",
       "  <thead>\n",
       "    <tr style=\"text-align: right;\">\n",
       "      <th></th>\n",
       "      <th>Field</th>\n",
       "      <th>Type</th>\n",
       "      <th>Description</th>\n",
       "      <th>Source</th>\n",
       "    </tr>\n",
       "  </thead>\n",
       "  <tbody>\n",
       "    <tr>\n",
       "      <th>0</th>\n",
       "      <td>Order Date</td>\n",
       "      <td>string</td>\n",
       "      <td>When the order was placed</td>\n",
       "      <td>Primary CSV</td>\n",
       "    </tr>\n",
       "    <tr>\n",
       "      <th>1</th>\n",
       "      <td>Customer ID</td>\n",
       "      <td>string</td>\n",
       "      <td>A unique ID for the customer</td>\n",
       "      <td>Primary CSV</td>\n",
       "    </tr>\n",
       "    <tr>\n",
       "      <th>2</th>\n",
       "      <td>Product</td>\n",
       "      <td>string</td>\n",
       "      <td>The product that was purchased</td>\n",
       "      <td>Primary CSV</td>\n",
       "    </tr>\n",
       "    <tr>\n",
       "      <th>3</th>\n",
       "      <td>Unit Price</td>\n",
       "      <td>float</td>\n",
       "      <td>Price of a single unit</td>\n",
       "      <td>Primary CSV</td>\n",
       "    </tr>\n",
       "    <tr>\n",
       "      <th>4</th>\n",
       "      <td>Quantity</td>\n",
       "      <td>int</td>\n",
       "      <td>Number of units bought</td>\n",
       "      <td>Primary CSV</td>\n",
       "    </tr>\n",
       "    <tr>\n",
       "      <th>5</th>\n",
       "      <td>Coupon Code</td>\n",
       "      <td>string</td>\n",
       "      <td>Any discount coupon applied</td>\n",
       "      <td>Primary CSV</td>\n",
       "    </tr>\n",
       "    <tr>\n",
       "      <th>6</th>\n",
       "      <td>City</td>\n",
       "      <td>string</td>\n",
       "      <td>City where the item was shipped</td>\n",
       "      <td>Primary CSV</td>\n",
       "    </tr>\n",
       "    <tr>\n",
       "      <th>7</th>\n",
       "      <td>Product_ID</td>\n",
       "      <td>string</td>\n",
       "      <td>Internal product ID</td>\n",
       "      <td>Secondary Metadata</td>\n",
       "    </tr>\n",
       "    <tr>\n",
       "      <th>8</th>\n",
       "      <td>Category</td>\n",
       "      <td>string</td>\n",
       "      <td>The category the product belongs to</td>\n",
       "      <td>Secondary Metadata</td>\n",
       "    </tr>\n",
       "    <tr>\n",
       "      <th>9</th>\n",
       "      <td>Brand</td>\n",
       "      <td>string</td>\n",
       "      <td>Product's brand name</td>\n",
       "      <td>Secondary Metadata</td>\n",
       "    </tr>\n",
       "    <tr>\n",
       "      <th>10</th>\n",
       "      <td>Province</td>\n",
       "      <td>string</td>\n",
       "      <td>Province of the shipping city</td>\n",
       "      <td>Secondary Metadata</td>\n",
       "    </tr>\n",
       "    <tr>\n",
       "      <th>11</th>\n",
       "      <td>Country</td>\n",
       "      <td>string</td>\n",
       "      <td>Country of the shipping city</td>\n",
       "      <td>Secondary Metadata</td>\n",
       "    </tr>\n",
       "    <tr>\n",
       "      <th>12</th>\n",
       "      <td>Population</td>\n",
       "      <td>int</td>\n",
       "      <td>Population of the shipping city</td>\n",
       "      <td>Secondary Metadata</td>\n",
       "    </tr>\n",
       "    <tr>\n",
       "      <th>13</th>\n",
       "      <td>Coupon_Description</td>\n",
       "      <td>string</td>\n",
       "      <td>Explanation of the coupon offer</td>\n",
       "      <td>Secondary Metadata</td>\n",
       "    </tr>\n",
       "    <tr>\n",
       "      <th>14</th>\n",
       "      <td>Discount_Percent</td>\n",
       "      <td>int</td>\n",
       "      <td>Percentage of discount offered</td>\n",
       "      <td>Secondary Metadata</td>\n",
       "    </tr>\n",
       "    <tr>\n",
       "      <th>15</th>\n",
       "      <td>Coupon_Expiry</td>\n",
       "      <td>string</td>\n",
       "      <td>Expiry date of the coupon</td>\n",
       "      <td>Secondary Metadata</td>\n",
       "    </tr>\n",
       "  </tbody>\n",
       "</table>\n",
       "</div>"
      ],
      "text/plain": [
       "                 Field    Type                          Description  \\\n",
       "0           Order Date  string            When the order was placed   \n",
       "1          Customer ID  string         A unique ID for the customer   \n",
       "2              Product  string       The product that was purchased   \n",
       "3           Unit Price   float               Price of a single unit   \n",
       "4             Quantity     int               Number of units bought   \n",
       "5          Coupon Code  string          Any discount coupon applied   \n",
       "6                 City  string      City where the item was shipped   \n",
       "7           Product_ID  string                  Internal product ID   \n",
       "8             Category  string  The category the product belongs to   \n",
       "9                Brand  string                 Product's brand name   \n",
       "10            Province  string        Province of the shipping city   \n",
       "11             Country  string         Country of the shipping city   \n",
       "12          Population     int      Population of the shipping city   \n",
       "13  Coupon_Description  string      Explanation of the coupon offer   \n",
       "14    Discount_Percent     int       Percentage of discount offered   \n",
       "15       Coupon_Expiry  string            Expiry date of the coupon   \n",
       "\n",
       "                Source  \n",
       "0          Primary CSV  \n",
       "1          Primary CSV  \n",
       "2          Primary CSV  \n",
       "3          Primary CSV  \n",
       "4          Primary CSV  \n",
       "5          Primary CSV  \n",
       "6          Primary CSV  \n",
       "7   Secondary Metadata  \n",
       "8   Secondary Metadata  \n",
       "9   Secondary Metadata  \n",
       "10  Secondary Metadata  \n",
       "11  Secondary Metadata  \n",
       "12  Secondary Metadata  \n",
       "13  Secondary Metadata  \n",
       "14  Secondary Metadata  \n",
       "15  Secondary Metadata  "
      ]
     },
     "execution_count": 12,
     "metadata": {},
     "output_type": "execute_result"
    }
   ],
   "source": [
    "import pandas as pd\n",
    "\n",
    "\n",
    "# Replace this with the actual file path to your primary CSV file\n",
    "file_path = r\"D:\\Applied AI & ML\\Machine Learning Porgramming\\Labs\\ecommerce_500_rows (1).csv\"\n",
    "\n",
    "# Load the transaction data (primary)\n",
    "primary_df = pd.read_csv(file_path)\n",
    "\n",
    "# Load the metadata we created earlier (secondary)\n",
    "secondary_df = pd.read_csv(r\"D:\\Applied AI & ML\\Machine Learning Porgramming\\Labs\\secondary_metadata.csv\")\n",
    "\n",
    "# Manually create a list of dictionaries that describe each column\n",
    "# include the column name, its type, a short description, and the source of the data\n",
    "data_dictionary = [\n",
    "    {\"Field\": \"Order Date\", \"Type\": \"string\", \"Description\": \"When the order was placed\", \"Source\": \"Primary CSV\"},\n",
    "    {\"Field\": \"Customer ID\", \"Type\": \"string\", \"Description\": \"A unique ID for the customer\", \"Source\": \"Primary CSV\"},\n",
    "    {\"Field\": \"Product\", \"Type\": \"string\", \"Description\": \"The product that was purchased\", \"Source\": \"Primary CSV\"},\n",
    "    {\"Field\": \"Unit Price\", \"Type\": \"float\", \"Description\": \"Price of a single unit\", \"Source\": \"Primary CSV\"},\n",
    "    {\"Field\": \"Quantity\", \"Type\": \"int\", \"Description\": \"Number of units bought\", \"Source\": \"Primary CSV\"},\n",
    "    {\"Field\": \"Coupon Code\", \"Type\": \"string\", \"Description\": \"Any discount coupon applied\", \"Source\": \"Primary CSV\"},\n",
    "    {\"Field\": \"City\", \"Type\": \"string\", \"Description\": \"City where the item was shipped\", \"Source\": \"Primary CSV\"},\n",
    "    \n",
    "    {\"Field\": \"Product_ID\", \"Type\": \"string\", \"Description\": \"Internal product ID\", \"Source\": \"Secondary Metadata\"},\n",
    "    {\"Field\": \"Category\", \"Type\": \"string\", \"Description\": \"The category the product belongs to\", \"Source\": \"Secondary Metadata\"},\n",
    "    {\"Field\": \"Brand\", \"Type\": \"string\", \"Description\": \"Product's brand name\", \"Source\": \"Secondary Metadata\"},\n",
    "    {\"Field\": \"Province\", \"Type\": \"string\", \"Description\": \"Province of the shipping city\", \"Source\": \"Secondary Metadata\"},\n",
    "    {\"Field\": \"Country\", \"Type\": \"string\", \"Description\": \"Country of the shipping city\", \"Source\": \"Secondary Metadata\"},\n",
    "    {\"Field\": \"Population\", \"Type\": \"int\", \"Description\": \"Population of the shipping city\", \"Source\": \"Secondary Metadata\"},\n",
    "    {\"Field\": \"Coupon_Description\", \"Type\": \"string\", \"Description\": \"Explanation of the coupon offer\", \"Source\": \"Secondary Metadata\"},\n",
    "    {\"Field\": \"Discount_Percent\", \"Type\": \"int\", \"Description\": \"Percentage of discount offered\", \"Source\": \"Secondary Metadata\"},\n",
    "    {\"Field\": \"Coupon_Expiry\", \"Type\": \"string\", \"Description\": \"Expiry date of the coupon\", \"Source\": \"Secondary Metadata\"},\n",
    "]\n",
    "\n",
    "# Convert this list into a DataFrame so it's easy to view or export\n",
    "dictionary_df = pd.DataFrame(data_dictionary)\n",
    "\n",
    "# Show the data dictionary\n",
    "dictionary_df\n"
   ]
  }
 ],
 "metadata": {
  "kernelspec": {
   "display_name": "ml",
   "language": "python",
   "name": "python3"
  },
  "language_info": {
   "codemirror_mode": {
    "name": "ipython",
    "version": 3
   },
   "file_extension": ".py",
   "mimetype": "text/x-python",
   "name": "python",
   "nbconvert_exporter": "python",
   "pygments_lexer": "ipython3",
   "version": "3.10.16"
  }
 },
 "nbformat": 4,
 "nbformat_minor": 5
}
