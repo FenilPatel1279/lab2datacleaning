{
 "cells": [
  {
   "cell_type": "markdown",
   "id": "1c6e9c30",
   "metadata": {},
   "source": [
    "# Name: Fenil Patel\n",
    "## Subjet: Machine learning Programming\n",
    "\n",
    "\n",
    "#### Lab2 - Data Collection and Pre-processing\n",
    " "
   ]
  },
  {
   "cell_type": "markdown",
   "id": "fdd2ae26",
   "metadata": {},
   "source": [
    "## Step 1: Hello Data "
   ]
  },
  {
   "cell_type": "code",
   "execution_count": 26,
   "id": "cd347784",
   "metadata": {},
   "outputs": [
    {
     "data": {
      "application/vnd.microsoft.datawrangler.viewer.v0+json": {
       "columns": [
        {
         "name": "index",
         "rawType": "int64",
         "type": "integer"
        },
        {
         "name": "Order Date",
         "rawType": "object",
         "type": "string"
        },
        {
         "name": "Customer ID",
         "rawType": "object",
         "type": "string"
        },
        {
         "name": "Product",
         "rawType": "object",
         "type": "string"
        },
        {
         "name": "Unit Price",
         "rawType": "float64",
         "type": "float"
        },
        {
         "name": "Quantity",
         "rawType": "int64",
         "type": "integer"
        },
        {
         "name": "Coupon Code",
         "rawType": "object",
         "type": "unknown"
        },
        {
         "name": "City",
         "rawType": "object",
         "type": "string"
        }
       ],
       "ref": "2929e3a5-635d-4394-b7dc-0875bfd1ed42",
       "rows": [
        [
         "0",
         "05/25/2023",
         "CUST1000",
         "Keyboard",
         "533.07",
         "4",
         null,
         "Calgary"
        ],
        [
         "1",
         "11/21/2023",
         "CUST1001",
         "Monitor",
         "1429.51",
         "5",
         "SAVE20",
         "Vancouver"
        ],
        [
         "2",
         "06/28/2023",
         "CUST1002",
         "Smartphone",
         "1139.69",
         "4",
         null,
         "Montreal"
        ]
       ],
       "shape": {
        "columns": 7,
        "rows": 3
       }
      },
      "text/html": [
       "<div>\n",
       "<style scoped>\n",
       "    .dataframe tbody tr th:only-of-type {\n",
       "        vertical-align: middle;\n",
       "    }\n",
       "\n",
       "    .dataframe tbody tr th {\n",
       "        vertical-align: top;\n",
       "    }\n",
       "\n",
       "    .dataframe thead th {\n",
       "        text-align: right;\n",
       "    }\n",
       "</style>\n",
       "<table border=\"1\" class=\"dataframe\">\n",
       "  <thead>\n",
       "    <tr style=\"text-align: right;\">\n",
       "      <th></th>\n",
       "      <th>Order Date</th>\n",
       "      <th>Customer ID</th>\n",
       "      <th>Product</th>\n",
       "      <th>Unit Price</th>\n",
       "      <th>Quantity</th>\n",
       "      <th>Coupon Code</th>\n",
       "      <th>City</th>\n",
       "    </tr>\n",
       "  </thead>\n",
       "  <tbody>\n",
       "    <tr>\n",
       "      <th>0</th>\n",
       "      <td>05/25/2023</td>\n",
       "      <td>CUST1000</td>\n",
       "      <td>Keyboard</td>\n",
       "      <td>533.07</td>\n",
       "      <td>4</td>\n",
       "      <td>NaN</td>\n",
       "      <td>Calgary</td>\n",
       "    </tr>\n",
       "    <tr>\n",
       "      <th>1</th>\n",
       "      <td>11/21/2023</td>\n",
       "      <td>CUST1001</td>\n",
       "      <td>Monitor</td>\n",
       "      <td>1429.51</td>\n",
       "      <td>5</td>\n",
       "      <td>SAVE20</td>\n",
       "      <td>Vancouver</td>\n",
       "    </tr>\n",
       "    <tr>\n",
       "      <th>2</th>\n",
       "      <td>06/28/2023</td>\n",
       "      <td>CUST1002</td>\n",
       "      <td>Smartphone</td>\n",
       "      <td>1139.69</td>\n",
       "      <td>4</td>\n",
       "      <td>NaN</td>\n",
       "      <td>Montreal</td>\n",
       "    </tr>\n",
       "  </tbody>\n",
       "</table>\n",
       "</div>"
      ],
      "text/plain": [
       "   Order Date Customer ID     Product  Unit Price  Quantity Coupon Code  \\\n",
       "0  05/25/2023    CUST1000    Keyboard      533.07         4         NaN   \n",
       "1  11/21/2023    CUST1001     Monitor     1429.51         5      SAVE20   \n",
       "2  06/28/2023    CUST1002  Smartphone     1139.69         4         NaN   \n",
       "\n",
       "        City  \n",
       "0    Calgary  \n",
       "1  Vancouver  \n",
       "2   Montreal  "
      ]
     },
     "execution_count": 26,
     "metadata": {},
     "output_type": "execute_result"
    }
   ],
   "source": [
    "import pandas as pd\n",
    "\n",
    "# Option 1: Use raw string with r prefix\n",
    "file_path = r\"D:\\Applied AI & ML\\Machine Learning Porgramming\\Labs\\ecommerce_500_rows (1).csv\"\n",
    "\n",
    "# Option 2: Use double backslashes (\\\\)\n",
    "\n",
    "df = pd.read_csv(file_path)\n",
    "df.head(3)\n",
    "# test\n",
    "# test 2"
   ]
  },
  {
   "cell_type": "markdown",
   "id": "50248fae",
   "metadata": {},
   "source": [
    "## Step 2: Pick the Right Container\n",
    "\n",
    "Since it enables the encapsulation of both data and functionality (such as clean/total functions), a class is the ideal containment for transaction information."
   ]
  },
  {
   "cell_type": "markdown",
   "id": "df720e76",
   "metadata": {},
   "source": [
    "# Bulk load"
   ]
  },
  {
   "cell_type": "code",
   "execution_count": 27,
   "id": "64968d6d",
   "metadata": {},
   "outputs": [],
   "source": [
    "def load_transactions(path: str) -> list[Transaction]:\n",
    "    \n",
    "    # Load up to 500 rows from a CSV file and turn each row into a Transaction object.\n",
    "    \n",
    "    # Read the CSV into a pandas DataFrame, but only keep the first 500 rows\n",
    "    df = pd.read_csv(path).head(500)\n",
    "    \n",
    "    # Convert each row into a Transaction:\n",
    "    transactions = []\n",
    "    for _, row in df.iterrows():\n",
    "        tx = Transaction(\n",
    "            row['Order Date'],              # when the order was placed\n",
    "            row['Customer ID'],             # who placed the order\n",
    "            row['Product'],                 # what they bought\n",
    "            float(row['Unit Price']),       # cost per item\n",
    "            int(row['Quantity']),           # number of items\n",
    "            row.get('Coupon Code', None),   # any coupon they used (or None)\n",
    "            row['City']                     # shipping destination\n",
    "        )\n",
    "        transactions.append(tx)\n",
    "    \n",
    "    # Return the full list of Transaction objects\n",
    "    return transactions\n",
    "\n",
    "# Example usage: point this to your CSV file location\n",
    "transactions = load_transactions(\n",
    "    r\"D:\\Applied AI & ML\\Machine Learning Porgramming\\Labs\\ecommerce_500_rows (1).csv\"\n",
    ")\n"
   ]
  },
  {
   "cell_type": "code",
   "execution_count": 28,
   "id": "f153d768",
   "metadata": {},
   "outputs": [],
   "source": [
    "\n",
    "\n",
    "def load_transactions(path: str) -> list[Transaction]:\n",
    "    df = pd.read_csv(path).head(500)\n",
    "    transactions = [\n",
    "        Transaction(\n",
    "            row['Order Date'],\n",
    "            row['Customer ID'],\n",
    "            row['Product'],\n",
    "            float(row['Unit Price']),\n",
    "            int(row['Quantity']),\n",
    "            row.get('Coupon Code', None),\n",
    "            row['City']\n",
    "        )\n",
    "        for _, row in df.iterrows()\n",
    "    ]\n",
    "    return transactions\n",
    "\n",
    "transactions = load_transactions(\"D:\\Applied AI & ML\\Machine Learning Porgramming\\Labs\\ecommerce_500_rows (1).csv\")\n"
   ]
  },
  {
   "cell_type": "markdown",
   "id": "d3d0f429",
   "metadata": {},
   "source": [
    "# Quick profiling "
   ]
  },
  {
   "cell_type": "code",
   "execution_count": 29,
   "id": "31c77fb7",
   "metadata": {},
   "outputs": [
    {
     "name": "stdout",
     "output_type": "stream",
     "text": [
      "Price Summary\n",
      "------------------------------\n",
      "Minimum Price  : $50.03\n",
      "Average Price  : $794.01\n",
      "Maximum Price  : $1,497.55\n",
      "\n",
      " Shipping Cities\n",
      "------------------------------\n",
      "Number of Unique Cities: 5\n"
     ]
    }
   ],
   "source": [
    "# Create transactions list from df if not already created\n",
    "transactions = [\n",
    "    Transaction(\n",
    "        date=row['Order Date'],\n",
    "        customer_id=row['Customer ID'],\n",
    "        product=row['Product'],\n",
    "        price=row['Unit Price'],\n",
    "        quantity=row['Quantity'],\n",
    "        coupon_code=row['Coupon Code'],\n",
    "        shipping_city=row['City']\n",
    "    )\n",
    "    for _, row in df.iterrows()\n",
    "]\n",
    "\n",
    "# Extract prices and cities\n",
    "prices = [t.price for t in transactions]\n",
    "cities = set(t.shipping_city for t in transactions)\n",
    "\n",
    "# Calculate basic stats\n",
    "min_price = min(prices)\n",
    "mean_price = sum(prices) / len(prices)\n",
    "max_price = max(prices)\n",
    "unique_city_count = len(cities)\n",
    "\n",
    "# Print output nicely\n",
    "print(\"Price Summary\")\n",
    "print(\"-\" * 30)\n",
    "print(f\"Minimum Price  : ${min_price:,.2f}\")\n",
    "print(f\"Average Price  : ${mean_price:,.2f}\")\n",
    "print(f\"Maximum Price  : ${max_price:,.2f}\")\n",
    "print()\n",
    "print(\" Shipping Cities\")\n",
    "print(\"-\" * 30)\n",
    "print(f\"Number of Unique Cities: {unique_city_count}\")\n"
   ]
  },
  {
   "cell_type": "markdown",
   "id": "b091359a",
   "metadata": {},
   "source": [
    "## Step 6: Spot the Grime\n"
   ]
  },
  {
   "cell_type": "code",
   "execution_count": 30,
   "id": "9d3e4a73",
   "metadata": {},
   "outputs": [],
   "source": [
    "transactions[10].price = -99.99\n",
    "transactions[20].coupon_code = \"N/A\"\n",
    "transactions[30].price = \"N/A\""
   ]
  },
  {
   "cell_type": "markdown",
   "id": "4d16bad7",
   "metadata": {},
   "source": [
    "## Step 7: Cleaning Rules\n"
   ]
  },
  {
   "cell_type": "code",
   "execution_count": 31,
   "id": "c43c32fd",
   "metadata": {},
   "outputs": [
    {
     "name": "stdout",
     "output_type": "stream",
     "text": [
      "Dirty before: 2\n",
      "Dirty after: 0\n"
     ]
    }
   ],
   "source": [
    "# Before cleaning\n",
    "dirty_before = [t for t in transactions if isinstance(t.price, str) or t.price < 0]\n",
    "print(\"Dirty before:\", len(dirty_before))\n",
    "\n",
    "# Clean all\n",
    "for t in transactions:\n",
    "    t.clean()\n",
    "\n",
    "# After cleaning\n",
    "dirty_after = [t for t in transactions if isinstance(t.price, str) or t.price < 0]\n",
    "print(\"Dirty after:\", len(dirty_after))"
   ]
  },
  {
   "cell_type": "markdown",
   "id": "99f8bd4b",
   "metadata": {},
   "source": [
    "## Step 8: Transformations\n"
   ]
  },
  {
   "cell_type": "code",
   "execution_count": 32,
   "id": "5b1edb4d",
   "metadata": {},
   "outputs": [],
   "source": [
    "def parse_coupon(code):\n",
    "    if code and str(code).startswith(\"SAVE\"):\n",
    "        return int(code[4:])\n",
    "    return 0\n",
    "\n",
    "for t in transactions:\n",
    "    t.discount = parse_coupon(t.coupon_code)"
   ]
  },
  {
   "cell_type": "markdown",
   "id": "fb27db64",
   "metadata": {},
   "source": [
    "## Step 9: Feature Engineering\n"
   ]
  },
  {
   "cell_type": "code",
   "execution_count": 33,
   "id": "a29edaed",
   "metadata": {},
   "outputs": [],
   "source": [
    "for t in transactions:\n",
    "    t.days_since_purchase = (\n",
    "        datetime.now() - datetime.strptime(t.date, \"%m/%d/%Y\")\n",
    "    ).days"
   ]
  },
  {
   "cell_type": "markdown",
   "id": "55e5c606",
   "metadata": {},
   "source": [
    "## Step 10: Mini-Aggregation"
   ]
  },
  {
   "cell_type": "code",
   "execution_count": 34,
   "id": "4aa7a0c8",
   "metadata": {},
   "outputs": [
    {
     "name": "stdout",
     "output_type": "stream",
     "text": [
      "        City    Revenue\n",
      "0    Calgary  222488.67\n",
      "1   Montreal  233576.12\n",
      "2     Ottawa  221019.08\n",
      "3    Toronto  275478.61\n",
      "4  Vancouver  226960.33\n"
     ]
    }
   ],
   "source": [
    "# Compute city revenue if not already defined\n",
    "df['Revenue'] = df['Unit Price'] * df['Quantity']\n",
    "city_revenue = df.groupby('City')['Revenue'].sum().reset_index()\n",
    "\n",
    "print(city_revenue)\n"
   ]
  },
  {
   "cell_type": "markdown",
   "id": "9b5e23b3",
   "metadata": {},
   "source": [
    "## Step 11: Serialization Checkpoint\n"
   ]
  },
  {
   "cell_type": "code",
   "execution_count": 35,
   "id": "f5d0b6de",
   "metadata": {},
   "outputs": [],
   "source": [
    "import pandas as pd\n",
    "import json\n",
    "import pyarrow as pa\n",
    "import pyarrow.parquet as pq\n",
    "\n",
    "# Turn each Transaction into a simple dict of its fields\n",
    "json_data = [t.__dict__ for t in transactions]\n",
    "\n",
    "# Save all transactions to a human-readable JSON file\n",
    "with open(\"cleaned_data.json\", \"w\") as f:\n",
    "    json.dump(json_data, f, indent=2)  # indent=2 makes it easy to read\n",
    "\n",
    "# Now, load that same data into a pandas DataFrame\n",
    "df = pd.DataFrame(json_data)\n",
    "\n",
    "# Convert the DataFrame into an Apache Arrow table\n",
    "table = pa.Table.from_pandas(df)\n",
    "\n",
    "# Write the Arrow table out as a Parquet file for fast, compact storage\n",
    "pq.write_table(table, \"cleaned_data.parquet\")\n",
    "# Read the Parquet file back into a DataFrame"
   ]
  },
  {
   "cell_type": "markdown",
   "id": "4e153107",
   "metadata": {},
   "source": [
    "## Step 12: Soft Interview Reflection\n",
    "OOP helped encapsulate logic cleanly."
   ]
  },
  {
   "cell_type": "markdown",
   "id": "3ae5edbe",
   "metadata": {},
   "source": [
    "Combining functionality and data was made simpler by object-oriented programming.  Code became scalable and accessible by enclosing functionality such as `.clean()` and `.total()` inside `Transaction`."
   ]
  }
 ],
 "metadata": {
  "kernelspec": {
   "display_name": "ml",
   "language": "python",
   "name": "python3"
  },
  "language_info": {
   "codemirror_mode": {
    "name": "ipython",
    "version": 3
   },
   "file_extension": ".py",
   "mimetype": "text/x-python",
   "name": "python",
   "nbconvert_exporter": "python",
   "pygments_lexer": "ipython3",
   "version": "3.10.16"
  }
 },
 "nbformat": 4,
 "nbformat_minor": 5
}
